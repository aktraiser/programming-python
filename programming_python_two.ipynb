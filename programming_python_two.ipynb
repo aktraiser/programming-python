{
 "cells": [
  {
   "cell_type": "markdown",
   "metadata": {},
   "source": [
    "# Somme"
   ]
  },
  {
   "cell_type": "code",
   "execution_count": 81,
   "metadata": {},
   "outputs": [
    {
     "name": "stdout",
     "output_type": "stream",
     "text": [
      "Entrez votre premier chiffre : 6576.96\n",
      "Entrez votre second chiffre : 786.7657\n",
      "La somme de 6576.96 et de 786.7657 est 7363.7257 \n"
     ]
    }
   ],
   "source": [
    "numero1 = float(input('Entrez votre premier chiffre : '))\n",
    "numero2 = float(input('Entrez votre second chiffre : '))\n",
    "\n",
    "total = numero1 + numero2\n",
    "\n",
    "print('La somme de {0} et de {1} est {2} '.format(numero1, numero2, total))"
   ]
  },
  {
   "cell_type": "code",
   "execution_count": 94,
   "metadata": {},
   "outputs": [
    {
     "name": "stdout",
     "output_type": "stream",
     "text": [
      "Entrez votre premier chiffre :986\n",
      "Entrez votre second :97\n",
      "La somme est de 1083.0\n"
     ]
    }
   ],
   "source": [
    "print('La somme est de %.1f' %(float(input('Entrez votre premier chiffre :')) + float(input('Entrez votre second :'))))\n",
    "\n",
    "\n"
   ]
  },
  {
   "cell_type": "markdown",
   "metadata": {},
   "source": [
    "# Lambda"
   ]
  },
  {
   "cell_type": "code",
   "execution_count": 1,
   "metadata": {},
   "outputs": [
    {
     "name": "stdout",
     "output_type": "stream",
     "text": [
      "Nombre de fois : 4\n",
      "Le total de fois demandé est:  4\n",
      "2 elevé à la puissance 0 est 1\n",
      "2 elevé à la puissance 1 est 2\n",
      "2 elevé à la puissance 2 est 4\n",
      "2 elevé à la puissance 3 est 8\n"
     ]
    }
   ],
   "source": [
    "donnee = int(input('Nombre de fois : '))\n",
    "\n",
    "resultat = list(map(lambda x:2 ** x, range(donnee)))\n",
    "\n",
    "print('Le total de fois demandé est: ', donnee)\n",
    "\n",
    "for i in range(donnee):\n",
    "    print(\"2 elevé à la puissance\", i,\"est\",resultat[i])"
   ]
  },
  {
   "cell_type": "code",
   "execution_count": 2,
   "metadata": {},
   "outputs": [
    {
     "name": "stdout",
     "output_type": "stream",
     "text": [
      "Les nombres divisibles par 13 sont [13, 546, 221]\n"
     ]
    }
   ],
   "source": [
    "liste = [12, 13, 67, 113, 546, 986, 221]\n",
    "\n",
    "resultat = list(filter(lambda x: (x %13 == 0), liste))\n",
    "\n",
    "print(\"Les nombres divisibles par 13 sont\", resultat)"
   ]
  },
  {
   "cell_type": "markdown",
   "metadata": {},
   "source": [
    "# Def"
   ]
  },
  {
   "cell_type": "code",
   "execution_count": 11,
   "metadata": {},
   "outputs": [
    {
     "name": "stdout",
     "output_type": "stream",
     "text": [
      "Rentrez un chiffre : 320\n",
      "les facteurs de 320 sont: \n",
      "1\n",
      "2\n",
      "4\n",
      "5\n",
      "8\n",
      "10\n",
      "16\n",
      "20\n",
      "32\n",
      "40\n",
      "64\n",
      "80\n",
      "160\n",
      "320\n"
     ]
    }
   ],
   "source": [
    "numero = int(input('Rentrez un chiffre : '))\n",
    "\n",
    "def nombre_facteur(x):\n",
    "    print('les facteurs de', x, 'sont: ')\n",
    "    for i in range(1, x + 1):\n",
    "        if x % i == 0:\n",
    "            print(i)\n",
    "nombre_facteur(numero)"
   ]
  },
  {
   "cell_type": "markdown",
   "metadata": {},
   "source": [
    "# Calculateur simple"
   ]
  },
  {
   "cell_type": "code",
   "execution_count": 27,
   "metadata": {},
   "outputs": [
    {
     "name": "stdout",
     "output_type": "stream",
     "text": [
      "Selectionnez une opération:\n",
      "1. Addition\n",
      "2. Soustraction\n",
      "3. Multiplication\n",
      "4. Divition\n",
      "Entrez le chiffre de votre choix : 4\n",
      "Entrez votre premier nombre : 53\n",
      "Entrez votre deuxième nombre : 4\n",
      "La division 53 / 4 est = à :  13.25\n"
     ]
    }
   ],
   "source": [
    "def addition(x, y):\n",
    "    return x + y\n",
    "\n",
    "def soustraction(x, y):\n",
    "    return x - y\n",
    "\n",
    "def multiplication(x, y):\n",
    "    return x * y\n",
    "\n",
    "def division(x, y):\n",
    "    return x / y\n",
    "    \n",
    "print('''Selectionnez une opération:\n",
    "1. Addition\n",
    "2. Soustraction\n",
    "3. Multiplication\n",
    "4. Divition''')\n",
    "\n",
    "choix = input(\"Entrez le chiffre de votre choix : \")\n",
    "\n",
    "numero1 = int(input(\"Entrez votre premier nombre : \"))\n",
    "numero2 = int(input(\"Entrez votre deuxième nombre : \"))\n",
    "\n",
    "if choix == '1':\n",
    "    print('L\\'addition de', numero1 ,'+', numero2, 'est = à : ', addition(numero1, numero2))\n",
    "    \n",
    "if choix == '2':\n",
    "    print('La soustraction', numero1, '-', numero2, 'est = à : ', soustraction(numero1, numero2))\n",
    "    \n",
    "if choix == '3':\n",
    "    print('La multiplication', numero1, '*', numero2, 'est = à : ', multiplication(numero1, numero2))\n",
    "    \n",
    "if choix == '4':\n",
    "        print('La division', numero1, '/', numero2, 'est = à : ', division(numero1, numero2))\n",
    "    "
   ]
  },
  {
   "cell_type": "markdown",
   "metadata": {},
   "source": [
    "# Décompte time"
   ]
  },
  {
   "cell_type": "code",
   "execution_count": 78,
   "metadata": {},
   "outputs": [
    {
     "name": "stdout",
     "output_type": "stream",
     "text": [
      "10\n",
      "9\n",
      "8\n",
      "7\n",
      "6\n",
      "5\n",
      "4\n",
      "3\n",
      "2\n",
      "1\n",
      "GOOOOO\n"
     ]
    }
   ],
   "source": [
    "import time\n",
    "f = 10\n",
    "t = 0\n",
    "while t < f:\n",
    "    print(f)\n",
    "    time.sleep(1)\n",
    "    f -= 1\n",
    "print('GOOOOO')"
   ]
  },
  {
   "cell_type": "markdown",
   "metadata": {},
   "source": [
    "# Mot de passe"
   ]
  },
  {
   "cell_type": "code",
   "execution_count": null,
   "metadata": {},
   "outputs": [],
   "source": [
    "import re\n",
    "\n",
    "print('''Rentrez un mot de passe:\n",
    "       -Entre 6 et 12 caractères\n",
    "       -Au moins une minuscule\n",
    "       -Au moins une majuscule\n",
    "       -Au moins un caractére spécial''')\n",
    "\n",
    "passworld = input(\"rentrer votre mot de passe : \")\n",
    "x = True\n",
    "\n",
    "while x:\n",
    "    if len(passworld)<6:\n",
    "        print(\"Mot de passe trop court\")\n",
    "        break\n",
    "    elif len(passworld)>12:\n",
    "        print(\"Mot de passe trop long\")\n",
    "        break\n",
    "    elif not re.search(\"[a-z]\",passworld):\n",
    "        print(\"Au moins une minuscule\")\n",
    "        break\n",
    "    elif not re.search(\"[A-Z]\", passworld):\n",
    "        print(\"Au moins une majuscule\")\n",
    "        break\n",
    "    elif not re.search(\"[$#@]\", passworld):\n",
    "        print(\"Au moins une caractère spécial\")\n",
    "        break\n",
    "    else:\n",
    "        print(\"Code valide\")\n",
    "        x=False\n",
    "        break"
   ]
  },
  {
   "cell_type": "markdown",
   "metadata": {},
   "source": [
    "# Message"
   ]
  },
  {
   "cell_type": "code",
   "execution_count": 76,
   "metadata": {},
   "outputs": [
    {
     "name": "stdout",
     "output_type": "stream",
     "text": [
      "Entrer votre message : kcjzf\n",
      "kcjzf\n",
      "Message envoyé\n",
      "Entrer votre message : Prise de rdv\n",
      "ok\n",
      "['kcjzf']\n"
     ]
    }
   ],
   "source": [
    "messages = []\n",
    "while True:\n",
    "    message = input(\"Entrer votre message : \")\n",
    "    if message == 'Prise de rdv':\n",
    "        break\n",
    "    print(message)\n",
    "    messages.append(message)\n",
    "    print(\"Message envoyé\")\n",
    "print('ok')\n",
    "print(messages)"
   ]
  },
  {
   "cell_type": "code",
   "execution_count": null,
   "metadata": {},
   "outputs": [],
   "source": []
  }
 ],
 "metadata": {
  "kernelspec": {
   "display_name": "Python 3",
   "language": "python",
   "name": "python3"
  },
  "language_info": {
   "codemirror_mode": {
    "name": "ipython",
    "version": 3
   },
   "file_extension": ".py",
   "mimetype": "text/x-python",
   "name": "python",
   "nbconvert_exporter": "python",
   "pygments_lexer": "ipython3",
   "version": "3.7.1"
  }
 },
 "nbformat": 4,
 "nbformat_minor": 2
}
